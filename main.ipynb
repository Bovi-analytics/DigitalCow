{
 "cells": [
  {
   "cell_type": "code",
   "execution_count": 1,
   "metadata": {
    "collapsed": true,
    "ExecuteTime": {
     "end_time": "2023-07-26T10:28:32.215550100Z",
     "start_time": "2023-07-26T10:28:26.180196500Z"
    }
   },
   "outputs": [],
   "source": [
    "import matplotlib.pyplot as plt\n",
    "import numpy as np\n",
    "from cow_builder.digital_cow import DigitalCow, state_probability_generator, \\\n",
    "    vector_milk_production, vector_nitrogen_emission\n",
    "from cow_builder.digital_herd import DigitalHerd\n",
    "from chain_simulator.simulation import state_vector_processor\n",
    "from chain_simulator.utilities import validate_matrix_sum, \\\n",
    "    validate_matrix_negative, simulation_accumulator\n",
    "from chain_simulator.assembly import array_assembler\n",
    "from functools import partial\n",
    "import time\n",
    "import logging\n",
    "import scipy"
   ]
  },
  {
   "cell_type": "code",
   "execution_count": 2,
   "outputs": [],
   "source": [
    "logging.basicConfig()\n",
    "just_another_herd = DigitalHerd()"
   ],
   "metadata": {
    "collapsed": false,
    "ExecuteTime": {
     "end_time": "2023-07-26T10:28:38.696453300Z",
     "start_time": "2023-07-26T10:28:38.672061900Z"
    }
   }
  },
  {
   "cell_type": "code",
   "execution_count": 3,
   "outputs": [],
   "source": [
    "cow = DigitalCow(\n",
    "        days_in_milk=0, lactation_number=0, days_pregnant=0,\n",
    "        age=0, herd=just_another_herd, state='Open')\n",
    "cow.generate_total_states(dim_limit=1000, ln_limit=9)"
   ],
   "metadata": {
    "collapsed": false,
    "ExecuteTime": {
     "end_time": "2023-07-11T07:42:52.769720900Z",
     "start_time": "2023-07-11T07:42:49.446076100Z"
    }
   }
  },
  {
   "cell_type": "code",
   "execution_count": 3,
   "outputs": [],
   "source": [
    "just_another_cow = DigitalCow(\n",
    "        days_in_milk=0, lactation_number=1, days_pregnant=0,\n",
    "        age=660, herd=just_another_herd, state='Open')\n",
    "just_another_cow.generate_total_states(dim_limit=1000, ln_limit=9)"
   ],
   "metadata": {
    "collapsed": false,
    "ExecuteTime": {
     "end_time": "2023-07-26T10:28:48.452114800Z",
     "start_time": "2023-07-26T10:28:45.218667300Z"
    }
   }
  },
  {
   "cell_type": "code",
   "execution_count": null,
   "outputs": [],
   "source": [
    "tm = array_assembler(cow.node_count,\n",
    "                     state_probability_generator(cow))"
   ],
   "metadata": {
    "collapsed": false
   }
  },
  {
   "cell_type": "code",
   "execution_count": 4,
   "outputs": [],
   "source": [
    "tm = array_assembler(just_another_cow.node_count,\n",
    "                     state_probability_generator(just_another_cow))"
   ],
   "metadata": {
    "collapsed": false,
    "ExecuteTime": {
     "end_time": "2023-07-26T10:30:18.867902200Z",
     "start_time": "2023-07-26T10:29:50.658617500Z"
    }
   }
  },
  {
   "cell_type": "code",
   "execution_count": null,
   "outputs": [],
   "source": [
    "scipy.sparse.save_npz('transition_matrices/transition_matrix_9_lactations.npz', tm, True)"
   ],
   "metadata": {
    "collapsed": false
   }
  },
  {
   "cell_type": "code",
   "execution_count": 5,
   "outputs": [],
   "source": [
    "tm = scipy.sparse.load_npz('transition_matrices/transition_matrix_9_lactations.npz')"
   ],
   "metadata": {
    "collapsed": false,
    "ExecuteTime": {
     "end_time": "2023-07-26T10:31:03.904591400Z",
     "start_time": "2023-07-26T10:31:03.836301100Z"
    }
   }
  },
  {
   "cell_type": "code",
   "execution_count": null,
   "outputs": [],
   "source": [
    "print(f\"validation of the sum of rows being equal to 1: {validate_matrix_sum(tm)}\")\n",
    "print(f\"validation of the probabilities in the matrix being positive: {validate_matrix_negative(tm)}\")"
   ],
   "metadata": {
    "collapsed": false
   }
  },
  {
   "cell_type": "code",
   "execution_count": null,
   "outputs": [],
   "source": [
    "simulated_days = 4900\n",
    "steps = 14\n",
    "simulation1 = state_vector_processor(cow.initial_state_vector, tm,\n",
    "                                     simulated_days, steps)\n",
    "\n",
    "start = time.perf_counter()\n",
    "milk_accumulator1 = {}\n",
    "nitrogen_accumulator1 = {}\n",
    "callbacks1 = {\n",
    "    \"milk\": partial(vector_milk_production, digital_cow=cow,\n",
    "                    intermediate_accumulator=milk_accumulator1),\n",
    "    \"nitrogen\": partial(vector_nitrogen_emission, digital_cow=cow,\n",
    "                        intermediate_accumulator=nitrogen_accumulator1)\n",
    "}\n",
    "accumulated1 = simulation_accumulator(simulation1, **callbacks1)\n",
    "end = time.perf_counter()\n",
    "print(f\"The time needed to iterate over the simulation \"\n",
    "      f\"and calculate phenotype output: {end - start} seconds.\")\n",
    "print(f\"accumulated: {accumulated1}\")"
   ],
   "metadata": {
    "collapsed": false
   }
  },
  {
   "cell_type": "code",
   "execution_count": null,
   "outputs": [],
   "source": [
    "simulated_days = 4900\n",
    "steps = 14\n",
    "simulation2 = state_vector_processor(just_another_cow.initial_state_vector, tm,\n",
    "                                         simulated_days, steps)\n",
    "\n",
    "start = time.perf_counter()\n",
    "milk_accumulator2 = {}\n",
    "nitrogen_accumulator2 = {}\n",
    "callbacks2 = {\n",
    "    \"milk\": partial(vector_milk_production, digital_cow=just_another_cow,\n",
    "                    intermediate_accumulator=milk_accumulator2),\n",
    "    \"nitrogen\": partial(vector_nitrogen_emission, digital_cow=just_another_cow,\n",
    "                        intermediate_accumulator=nitrogen_accumulator2)\n",
    "}\n",
    "accumulated2 = simulation_accumulator(simulation2, **callbacks2)\n",
    "end = time.perf_counter()\n",
    "print(f\"The time needed to iterate over the simulation \"\n",
    "      f\"and calculate phenotype output: {end - start} seconds.\")\n",
    "print(f\"accumulated: {accumulated2}\")"
   ],
   "metadata": {
    "collapsed": false
   }
  },
  {
   "cell_type": "code",
   "execution_count": null,
   "outputs": [],
   "source": [
    "plt.figure()\n",
    "xpoints = np.asarray([key for key in milk_accumulator1.keys()])\n",
    "ypoints = np.asarray([value for value in milk_accumulator1.values()])\n",
    "plt.plot(xpoints, ypoints, label='cow 1')\n",
    "plt.title('Average milk production per day in simulation')\n",
    "plt.ylabel('Milk production (kg)')\n",
    "plt.xlabel('Days in simulation')\n",
    "plt.legend()"
   ],
   "metadata": {
    "collapsed": false
   }
  },
  {
   "cell_type": "code",
   "execution_count": null,
   "outputs": [],
   "source": [
    "plt.figure()\n",
    "xpoints = np.asarray([key for key in milk_accumulator2.keys()])\n",
    "ypoints = np.asarray([value for value in milk_accumulator2.values()])\n",
    "plt.plot(xpoints, ypoints, label='cow 2')\n",
    "plt.title('Average milk production per day in simulation')\n",
    "plt.ylabel('Milk production (kg)')\n",
    "plt.xlabel('Days in simulation')\n",
    "plt.legend()"
   ],
   "metadata": {
    "collapsed": false
   }
  },
  {
   "cell_type": "code",
   "execution_count": 10,
   "outputs": [],
   "source": [
    "plt.figure()\n",
    "xpoints = np.asarray([key for key in milk_accumulator1.keys()])\n",
    "ypoints = np.asarray([value for value in milk_accumulator1.values()])\n",
    "plt.plot(xpoints, ypoints, label='cow 1')\n",
    "xpoints = np.asarray([key for key in milk_accumulator2.keys()])\n",
    "ypoints = np.asarray([value for value in milk_accumulator2.values()])\n",
    "plt.plot(xpoints, ypoints, label='cow 2')\n",
    "plt.title('Average milk production per day in simulation')\n",
    "plt.ylabel('Milk production (kg)')\n",
    "plt.xlabel('Days in simulation')\n",
    "plt.legend()\n",
    "plt.savefig('img/complete_simulation_2_cows_4900_days_milk_production')\n",
    "plt.close()"
   ],
   "metadata": {
    "collapsed": false,
    "ExecuteTime": {
     "end_time": "2023-06-30T09:44:59.134175Z",
     "start_time": "2023-06-30T09:44:59.040945600Z"
    }
   }
  },
  {
   "cell_type": "code",
   "execution_count": null,
   "outputs": [],
   "source": [
    "plt.figure()\n",
    "xpoints = np.asarray([key for key in nitrogen_accumulator1.keys()])\n",
    "ypoints = np.asarray([value for value in nitrogen_accumulator1.values()])\n",
    "plt.plot(xpoints, ypoints, label='cow 1')\n",
    "plt.title('Average nitrogen emission per day in simulation')\n",
    "plt.ylabel('Nitrogen emission (g)')\n",
    "plt.xlabel('Days in simulation')\n",
    "plt.legend()"
   ],
   "metadata": {
    "collapsed": false
   }
  },
  {
   "cell_type": "code",
   "execution_count": null,
   "outputs": [],
   "source": [
    "plt.figure()\n",
    "xpoints = np.asarray([key for key in nitrogen_accumulator2.keys()])\n",
    "ypoints = np.asarray([value for value in nitrogen_accumulator2.values()])\n",
    "plt.plot(xpoints, ypoints, label='cow 2')\n",
    "plt.title('Average nitrogen emission per day in simulation')\n",
    "plt.ylabel('Nitrogen emission (g)')\n",
    "plt.xlabel('Days in simulation')\n",
    "plt.legend()"
   ],
   "metadata": {
    "collapsed": false
   }
  },
  {
   "cell_type": "code",
   "execution_count": 11,
   "outputs": [],
   "source": [
    "plt.figure()\n",
    "xpoints = np.asarray([key for key in nitrogen_accumulator1.keys()])\n",
    "ypoints = np.asarray([value for value in nitrogen_accumulator1.values()])\n",
    "plt.plot(xpoints, ypoints, label='cow 1')\n",
    "xpoints = np.asarray([key for key in nitrogen_accumulator2.keys()])\n",
    "ypoints = np.asarray([value for value in nitrogen_accumulator2.values()])\n",
    "plt.plot(xpoints, ypoints, label='cow 2')\n",
    "plt.title('Average nitrogen emission per day in simulation')\n",
    "plt.ylabel('Nitrogen emission (g)')\n",
    "plt.xlabel('Days in simulation')\n",
    "plt.legend()\n",
    "plt.savefig('img/complete_simulation_2_cows_4900_days_nitrogen_emission')\n",
    "plt.close()"
   ],
   "metadata": {
    "collapsed": false,
    "ExecuteTime": {
     "end_time": "2023-06-30T09:45:50.656691400Z",
     "start_time": "2023-06-30T09:45:50.556268900Z"
    }
   }
  }
 ],
 "metadata": {
  "kernelspec": {
   "display_name": "Python 3",
   "language": "python",
   "name": "python3"
  },
  "language_info": {
   "codemirror_mode": {
    "name": "ipython",
    "version": 2
   },
   "file_extension": ".py",
   "mimetype": "text/x-python",
   "name": "python",
   "nbconvert_exporter": "python",
   "pygments_lexer": "ipython2",
   "version": "2.7.6"
  }
 },
 "nbformat": 4,
 "nbformat_minor": 0
}
